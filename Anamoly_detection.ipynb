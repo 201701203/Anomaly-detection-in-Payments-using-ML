{
  "nbformat": 4,
  "nbformat_minor": 0,
  "metadata": {
    "colab": {
      "name": "Anamoly_detection.ipynb",
      "provenance": [],
      "collapsed_sections": [
        "7yWpXUA5clYX",
        "yLYIvFRZdBNB",
        "QTI5UrNSqpSa",
        "dRb7J1Hrs5ZJ",
        "09R28CuktOIP"
      ]
    },
    "kernelspec": {
      "name": "python3",
      "display_name": "Python 3"
    }
  },
  "cells": [
    {
      "cell_type": "markdown",
      "metadata": {
        "id": "0LjXMzZacX4b",
        "colab_type": "text"
      },
      "source": [
        "## Anomaly detection in Payments using ML"
      ]
    },
    {
      "cell_type": "markdown",
      "metadata": {
        "id": "7yWpXUA5clYX",
        "colab_type": "text"
      },
      "source": [
        "#import Libraries"
      ]
    },
    {
      "cell_type": "code",
      "metadata": {
        "id": "09-5-rLEchtE",
        "colab_type": "code",
        "colab": {
          "base_uri": "https://localhost:8080/",
          "height": 74
        },
        "outputId": "98a82808-8c48-40ae-e5ca-6fd8e9d80f8e"
      },
      "source": [
        "import numpy as np\n",
        "import pandas as pd\n",
        "import random as rn\n",
        "import matplotlib.pyplot as plt\n",
        "from mpl_toolkits.mplot3d import axes3d\n",
        "from sklearn.model_selection import train_test_split\n",
        "import seaborn as sns\n",
        "from sklearn.metrics import classification_report,accuracy_score, confusion_matrix\n",
        "from sklearn.neighbors import KDTree"
      ],
      "execution_count": 1,
      "outputs": [
        {
          "output_type": "stream",
          "text": [
            "/usr/local/lib/python3.6/dist-packages/statsmodels/tools/_testing.py:19: FutureWarning: pandas.util.testing is deprecated. Use the functions in the public API at pandas.testing instead.\n",
            "  import pandas.util.testing as tm\n"
          ],
          "name": "stderr"
        }
      ]
    },
    {
      "cell_type": "markdown",
      "metadata": {
        "id": "yLYIvFRZdBNB",
        "colab_type": "text"
      },
      "source": [
        "# Data Loading & Visulization"
      ]
    },
    {
      "cell_type": "code",
      "metadata": {
        "id": "hmFHSFyidEUN",
        "colab_type": "code",
        "colab": {
          "base_uri": "https://localhost:8080/",
          "height": 226
        },
        "outputId": "23e6fc35-3480-41bf-baae-65754044f176"
      },
      "source": [
        "data=pd.read_csv(r'/content/drive/My Drive/creditcard.csv') \n",
        "data.head()"
      ],
      "execution_count": 13,
      "outputs": [
        {
          "output_type": "execute_result",
          "data": {
            "text/html": [
              "<div>\n",
              "<style scoped>\n",
              "    .dataframe tbody tr th:only-of-type {\n",
              "        vertical-align: middle;\n",
              "    }\n",
              "\n",
              "    .dataframe tbody tr th {\n",
              "        vertical-align: top;\n",
              "    }\n",
              "\n",
              "    .dataframe thead th {\n",
              "        text-align: right;\n",
              "    }\n",
              "</style>\n",
              "<table border=\"1\" class=\"dataframe\">\n",
              "  <thead>\n",
              "    <tr style=\"text-align: right;\">\n",
              "      <th></th>\n",
              "      <th>Time</th>\n",
              "      <th>V1</th>\n",
              "      <th>V2</th>\n",
              "      <th>V3</th>\n",
              "      <th>V4</th>\n",
              "      <th>V5</th>\n",
              "      <th>V6</th>\n",
              "      <th>V7</th>\n",
              "      <th>V8</th>\n",
              "      <th>V9</th>\n",
              "      <th>V10</th>\n",
              "      <th>V11</th>\n",
              "      <th>V12</th>\n",
              "      <th>V13</th>\n",
              "      <th>V14</th>\n",
              "      <th>V15</th>\n",
              "      <th>V16</th>\n",
              "      <th>V17</th>\n",
              "      <th>V18</th>\n",
              "      <th>V19</th>\n",
              "      <th>V20</th>\n",
              "      <th>V21</th>\n",
              "      <th>V22</th>\n",
              "      <th>V23</th>\n",
              "      <th>V24</th>\n",
              "      <th>V25</th>\n",
              "      <th>V26</th>\n",
              "      <th>V27</th>\n",
              "      <th>V28</th>\n",
              "      <th>Amount</th>\n",
              "      <th>Class</th>\n",
              "    </tr>\n",
              "  </thead>\n",
              "  <tbody>\n",
              "    <tr>\n",
              "      <th>0</th>\n",
              "      <td>0.0</td>\n",
              "      <td>-1.359807</td>\n",
              "      <td>-0.072781</td>\n",
              "      <td>2.536347</td>\n",
              "      <td>1.378155</td>\n",
              "      <td>-0.338321</td>\n",
              "      <td>0.462388</td>\n",
              "      <td>0.239599</td>\n",
              "      <td>0.098698</td>\n",
              "      <td>0.363787</td>\n",
              "      <td>0.090794</td>\n",
              "      <td>-0.551600</td>\n",
              "      <td>-0.617801</td>\n",
              "      <td>-0.991390</td>\n",
              "      <td>-0.311169</td>\n",
              "      <td>1.468177</td>\n",
              "      <td>-0.470401</td>\n",
              "      <td>0.207971</td>\n",
              "      <td>0.025791</td>\n",
              "      <td>0.403993</td>\n",
              "      <td>0.251412</td>\n",
              "      <td>-0.018307</td>\n",
              "      <td>0.277838</td>\n",
              "      <td>-0.110474</td>\n",
              "      <td>0.066928</td>\n",
              "      <td>0.128539</td>\n",
              "      <td>-0.189115</td>\n",
              "      <td>0.133558</td>\n",
              "      <td>-0.021053</td>\n",
              "      <td>149.62</td>\n",
              "      <td>0</td>\n",
              "    </tr>\n",
              "    <tr>\n",
              "      <th>1</th>\n",
              "      <td>0.0</td>\n",
              "      <td>1.191857</td>\n",
              "      <td>0.266151</td>\n",
              "      <td>0.166480</td>\n",
              "      <td>0.448154</td>\n",
              "      <td>0.060018</td>\n",
              "      <td>-0.082361</td>\n",
              "      <td>-0.078803</td>\n",
              "      <td>0.085102</td>\n",
              "      <td>-0.255425</td>\n",
              "      <td>-0.166974</td>\n",
              "      <td>1.612727</td>\n",
              "      <td>1.065235</td>\n",
              "      <td>0.489095</td>\n",
              "      <td>-0.143772</td>\n",
              "      <td>0.635558</td>\n",
              "      <td>0.463917</td>\n",
              "      <td>-0.114805</td>\n",
              "      <td>-0.183361</td>\n",
              "      <td>-0.145783</td>\n",
              "      <td>-0.069083</td>\n",
              "      <td>-0.225775</td>\n",
              "      <td>-0.638672</td>\n",
              "      <td>0.101288</td>\n",
              "      <td>-0.339846</td>\n",
              "      <td>0.167170</td>\n",
              "      <td>0.125895</td>\n",
              "      <td>-0.008983</td>\n",
              "      <td>0.014724</td>\n",
              "      <td>2.69</td>\n",
              "      <td>0</td>\n",
              "    </tr>\n",
              "    <tr>\n",
              "      <th>2</th>\n",
              "      <td>1.0</td>\n",
              "      <td>-1.358354</td>\n",
              "      <td>-1.340163</td>\n",
              "      <td>1.773209</td>\n",
              "      <td>0.379780</td>\n",
              "      <td>-0.503198</td>\n",
              "      <td>1.800499</td>\n",
              "      <td>0.791461</td>\n",
              "      <td>0.247676</td>\n",
              "      <td>-1.514654</td>\n",
              "      <td>0.207643</td>\n",
              "      <td>0.624501</td>\n",
              "      <td>0.066084</td>\n",
              "      <td>0.717293</td>\n",
              "      <td>-0.165946</td>\n",
              "      <td>2.345865</td>\n",
              "      <td>-2.890083</td>\n",
              "      <td>1.109969</td>\n",
              "      <td>-0.121359</td>\n",
              "      <td>-2.261857</td>\n",
              "      <td>0.524980</td>\n",
              "      <td>0.247998</td>\n",
              "      <td>0.771679</td>\n",
              "      <td>0.909412</td>\n",
              "      <td>-0.689281</td>\n",
              "      <td>-0.327642</td>\n",
              "      <td>-0.139097</td>\n",
              "      <td>-0.055353</td>\n",
              "      <td>-0.059752</td>\n",
              "      <td>378.66</td>\n",
              "      <td>0</td>\n",
              "    </tr>\n",
              "    <tr>\n",
              "      <th>3</th>\n",
              "      <td>1.0</td>\n",
              "      <td>-0.966272</td>\n",
              "      <td>-0.185226</td>\n",
              "      <td>1.792993</td>\n",
              "      <td>-0.863291</td>\n",
              "      <td>-0.010309</td>\n",
              "      <td>1.247203</td>\n",
              "      <td>0.237609</td>\n",
              "      <td>0.377436</td>\n",
              "      <td>-1.387024</td>\n",
              "      <td>-0.054952</td>\n",
              "      <td>-0.226487</td>\n",
              "      <td>0.178228</td>\n",
              "      <td>0.507757</td>\n",
              "      <td>-0.287924</td>\n",
              "      <td>-0.631418</td>\n",
              "      <td>-1.059647</td>\n",
              "      <td>-0.684093</td>\n",
              "      <td>1.965775</td>\n",
              "      <td>-1.232622</td>\n",
              "      <td>-0.208038</td>\n",
              "      <td>-0.108300</td>\n",
              "      <td>0.005274</td>\n",
              "      <td>-0.190321</td>\n",
              "      <td>-1.175575</td>\n",
              "      <td>0.647376</td>\n",
              "      <td>-0.221929</td>\n",
              "      <td>0.062723</td>\n",
              "      <td>0.061458</td>\n",
              "      <td>123.50</td>\n",
              "      <td>0</td>\n",
              "    </tr>\n",
              "    <tr>\n",
              "      <th>4</th>\n",
              "      <td>2.0</td>\n",
              "      <td>-1.158233</td>\n",
              "      <td>0.877737</td>\n",
              "      <td>1.548718</td>\n",
              "      <td>0.403034</td>\n",
              "      <td>-0.407193</td>\n",
              "      <td>0.095921</td>\n",
              "      <td>0.592941</td>\n",
              "      <td>-0.270533</td>\n",
              "      <td>0.817739</td>\n",
              "      <td>0.753074</td>\n",
              "      <td>-0.822843</td>\n",
              "      <td>0.538196</td>\n",
              "      <td>1.345852</td>\n",
              "      <td>-1.119670</td>\n",
              "      <td>0.175121</td>\n",
              "      <td>-0.451449</td>\n",
              "      <td>-0.237033</td>\n",
              "      <td>-0.038195</td>\n",
              "      <td>0.803487</td>\n",
              "      <td>0.408542</td>\n",
              "      <td>-0.009431</td>\n",
              "      <td>0.798278</td>\n",
              "      <td>-0.137458</td>\n",
              "      <td>0.141267</td>\n",
              "      <td>-0.206010</td>\n",
              "      <td>0.502292</td>\n",
              "      <td>0.219422</td>\n",
              "      <td>0.215153</td>\n",
              "      <td>69.99</td>\n",
              "      <td>0</td>\n",
              "    </tr>\n",
              "  </tbody>\n",
              "</table>\n",
              "</div>"
            ],
            "text/plain": [
              "   Time        V1        V2        V3  ...       V27       V28  Amount  Class\n",
              "0   0.0 -1.359807 -0.072781  2.536347  ...  0.133558 -0.021053  149.62      0\n",
              "1   0.0  1.191857  0.266151  0.166480  ... -0.008983  0.014724    2.69      0\n",
              "2   1.0 -1.358354 -1.340163  1.773209  ... -0.055353 -0.059752  378.66      0\n",
              "3   1.0 -0.966272 -0.185226  1.792993  ...  0.062723  0.061458  123.50      0\n",
              "4   2.0 -1.158233  0.877737  1.548718  ...  0.219422  0.215153   69.99      0\n",
              "\n",
              "[5 rows x 31 columns]"
            ]
          },
          "metadata": {
            "tags": []
          },
          "execution_count": 13
        }
      ]
    },
    {
      "cell_type": "markdown",
      "metadata": {
        "id": "_WBs5BdFdmgy",
        "colab_type": "text"
      },
      "source": [
        "We can see above that there are 28 PCA components provided to us as it is not appropriate to provide someone's private details in dataset. Here We have another 2 features-Time and Amount. So there are total 30 features in our dataset. Label is provided to each Transaction i.e 0 for normal transaction and 1 for fraud transaction.\n",
        "\n",
        "Time :- Number of seconds elapsed between this transaction and the first transaction in the dataset\n",
        "\n",
        "Checking whether there is any missing value.\n"
      ]
    },
    {
      "cell_type": "code",
      "metadata": {
        "id": "x2_fKa_5dngt",
        "colab_type": "code",
        "colab": {
          "base_uri": "https://localhost:8080/",
          "height": 35
        },
        "outputId": "572c6a07-d8a9-48b2-f572-9ad17be574eb"
      },
      "source": [
        "data.isnull().values.any()"
      ],
      "execution_count": 6,
      "outputs": [
        {
          "output_type": "execute_result",
          "data": {
            "text/plain": [
              "False"
            ]
          },
          "metadata": {
            "tags": []
          },
          "execution_count": 6
        }
      ]
    },
    {
      "cell_type": "code",
      "metadata": {
        "id": "uAGXgUrsea1V",
        "colab_type": "code",
        "colab": {
          "base_uri": "https://localhost:8080/",
          "height": 279
        },
        "outputId": "53fb2965-aaef-492f-cd54-febdb3cfd9a5"
      },
      "source": [
        "sns.countplot(x=\"Class\",data=data)\n",
        "plt.xlabel(\"0=Normal,1=Fraud\")\n",
        "plt.ylabel(\"Frequency\")\n",
        "plt.show()"
      ],
      "execution_count": 10,
      "outputs": [
        {
          "output_type": "display_data",
          "data": {
            "image/png": "[encoded data removed]",
            "text/plain": [
              "<Figure size 432x288 with 1 Axes>"
            ]
          },
          "metadata": {
            "tags": [],
            "needs_background": "light"
          }
        }
      ]
    },
    {
      "cell_type": "code",
      "metadata": {
        "id": "bNxQQyk5el4z",
        "colab_type": "code",
        "colab": {
          "base_uri": "https://localhost:8080/",
          "height": 72
        },
        "outputId": "99fd4857-8ad0-4889-bbd9-f2291d3c2bd5"
      },
      "source": [
        "fraud = data[data['Class']==1]\n",
        "normal = data[data['Class']==0]\n",
        "print(\"Number of fraud transactions :\", len(fraud))\n",
        "print(\"Number of normal transactions :\", len(normal))\n",
        "outlier_fraction = len(fraud)/float(len(normal))\n",
        "print(\"Outlier Fraction:\",outlier_fraction)"
      ],
      "execution_count": 12,
      "outputs": [
        {
          "output_type": "stream",
          "text": [
            "Number of fraud transactions : 492\n",
            "Number of normal transactions : 284315\n",
            "Outlier Fraction: 0.0017304750013189597\n"
          ],
          "name": "stdout"
        }
      ]
    },
    {
      "cell_type": "markdown",
      "metadata": {
        "id": "grS_Kkwllckc",
        "colab_type": "text"
      },
      "source": [
        "We Will check Do fraudulent transactions occur more often during certain time frame ? Let us find out with a visual representation."
      ]
    },
    {
      "cell_type": "code",
      "metadata": {
        "id": "wb_tFL_ak3BJ",
        "colab_type": "code",
        "colab": {
          "base_uri": "https://localhost:8080/",
          "height": 308
        },
        "outputId": "78b9cfd1-1c99-433c-a789-b2a78dd43471"
      },
      "source": [
        "f, (ax1, ax2) = plt.subplots(2, 1, sharex=True)\n",
        "f.suptitle('Time of transaction vs Amount by class')\n",
        "ax1.scatter(fraud.Time, fraud.Amount)\n",
        "ax1.set_title('Fraud')\n",
        "ax2.scatter(normal.Time, normal.Amount)\n",
        "ax2.set_title('Normal')\n",
        "plt.xlabel('Time (in Seconds)')\n",
        "plt.ylabel('Amount')\n",
        "plt.show()"
      ],
      "execution_count": 18,
      "outputs": [
        {
          "output_type": "display_data",
          "data": {
            "image/png": "[encoded data removed]",
            "text/plain": [
              "<Figure size 432x288 with 2 Axes>"
            ]
          },
          "metadata": {
            "tags": [],
            "needs_background": "light"
          }
        }
      ]
    },
    {
      "cell_type": "markdown",
      "metadata": {
        "id": "8B21j0Rym49F",
        "colab_type": "text"
      },
      "source": [
        "We Will check Do fraudulent transactions occur more often for certain amount ? Let us find out with a visual representation."
      ]
    },
    {
      "cell_type": "code",
      "metadata": {
        "id": "DLZcJy3Im_vi",
        "colab_type": "code",
        "colab": {
          "base_uri": "https://localhost:8080/",
          "height": 308
        },
        "outputId": "6c9efb3e-1118-4271-80c7-2c0209b62444"
      },
      "source": [
        "f, (ax1, ax2) = plt.subplots(2, 1, sharex=True)\n",
        "f.suptitle('Amount per transaction by class')\n",
        "bins = 50\n",
        "ax1.hist(fraud.Amount, bins = bins)\n",
        "ax1.set_title('Fraud')\n",
        "ax2.hist(normal.Amount, bins = bins)\n",
        "ax2.set_title('Normal')\n",
        "plt.xlabel('Amount ($)')\n",
        "plt.ylabel('Number of Transactions')\n",
        "plt.xlim((0, 20000))\n",
        "plt.yscale('log')\n",
        "plt.show();"
      ],
      "execution_count": 27,
      "outputs": [
        {
          "output_type": "display_data",
          "data": {
            "image/png": "[encoded data removed]",
            "text/plain": [
              "<Figure size 432x288 with 2 Axes>"
            ]
          },
          "metadata": {
            "tags": [],
            "needs_background": "light"
          }
        }
      ]
    },
    {
      "cell_type": "markdown",
      "metadata": {
        "id": "ZaFbnqimoQYc",
        "colab_type": "text"
      },
      "source": [
        "Description of Fraudulent transactions"
      ]
    },
    {
      "cell_type": "code",
      "metadata": {
        "id": "bBahSIchoXP6",
        "colab_type": "code",
        "colab": {
          "base_uri": "https://localhost:8080/",
          "height": 183
        },
        "outputId": "2c2ec105-26eb-4866-91db-4cd087f25ed3"
      },
      "source": [
        "fraud.Amount.describe()"
      ],
      "execution_count": 28,
      "outputs": [
        {
          "output_type": "execute_result",
          "data": {
            "text/plain": [
              "count     492.000000\n",
              "mean      122.211321\n",
              "std       256.683288\n",
              "min         0.000000\n",
              "25%         1.000000\n",
              "50%         9.250000\n",
              "75%       105.890000\n",
              "max      2125.870000\n",
              "Name: Amount, dtype: float64"
            ]
          },
          "metadata": {
            "tags": []
          },
          "execution_count": 28
        }
      ]
    },
    {
      "cell_type": "code",
      "metadata": {
        "id": "hxRNhAULpDvi",
        "colab_type": "code",
        "colab": {}
      },
      "source": [
        "x=data.iloc[1:, 1:29]     \n",
        "y=data.iloc[1:,30]"
      ],
      "execution_count": 0,
      "outputs": []
    },
    {
      "cell_type": "code",
      "metadata": {
        "id": "lA9aqpkAdEj9",
        "colab_type": "code",
        "colab": {}
      },
      "source": [
        "x=(x-np.mean(x))/np.std(x)\n",
        "x_train,x_test,y_train,y_test=train_test_split(x,y,test_size=0.25)"
      ],
      "execution_count": 0,
      "outputs": []
    },
    {
      "cell_type": "markdown",
      "metadata": {
        "id": "QTI5UrNSqpSa",
        "colab_type": "text"
      },
      "source": [
        "#Logistic Regression"
      ]
    },
    {
      "cell_type": "code",
      "metadata": {
        "id": "QajQm1CDqxZ-",
        "colab_type": "code",
        "colab": {}
      },
      "source": [
        "class LogisticRegression:\n",
        "    def __init__(self, lr=0.01, num_iter=100000, fit_intercept=True):\n",
        "         # lr : Learning Rate\n",
        "         # num_iter : Number of Iterations\n",
        "         # fit_intercept : Specifies if a constant (a.k.a. bias or intercept) should be added to the decision function.\n",
        "        self.lr = lr\n",
        "        self.num_iter = num_iter\n",
        "        self.fit_intercept = fit_intercept\n",
        "    \n",
        "    # add column for intercept\n",
        "    def __add_intercept(self, X):\n",
        "        intercept = np.ones((X.shape[0], 1))\n",
        "        return np.concatenate((intercept, X), axis=1)\n",
        "    \n",
        "    # Sigmond Function\n",
        "    def __sigmoid(self, z):\n",
        "        return 1 / (1 + np.exp(-z))\n",
        "\n",
        "    # training function\n",
        "    def fit(self, X, y):\n",
        "        if self.fit_intercept:\n",
        "            X = self.__add_intercept(X)\n",
        "        \n",
        "        # weights initialization\n",
        "        self.theta = np.zeros(X.shape[1])\n",
        "        \n",
        "        # Gradient descent\n",
        "        for _ in range(self.num_iter):\n",
        "            z = np.dot(X, self.theta)\n",
        "            h = self.__sigmoid(z)\n",
        "            gradient = np.dot(X.T, (h - y)) / y.size\n",
        "            self.theta -= self.lr * gradient\n",
        "            \n",
        "    # test function\n",
        "    def predict_prob(self, X):\n",
        "        if self.fit_intercept:\n",
        "            X = self.__add_intercept(X)\n",
        "        return self.__sigmoid(np.dot(X, self.theta))\n",
        "    \n",
        "    def predict(self, X):\n",
        "        return self.predict_prob(X).round()"
      ],
      "execution_count": 0,
      "outputs": []
    },
    {
      "cell_type": "code",
      "metadata": {
        "id": "ks6sPkJvq_0b",
        "colab_type": "code",
        "colab": {}
      },
      "source": [
        "# LR training\n",
        "model_lr = LogisticRegression(lr=0.01, num_iter=1000)\n",
        "model_lr.fit(x_train, y_train)"
      ],
      "execution_count": 0,
      "outputs": []
    },
    {
      "cell_type": "code",
      "metadata": {
        "id": "bvr919TOrZ3w",
        "colab_type": "code",
        "colab": {
          "base_uri": "https://localhost:8080/",
          "height": 35
        },
        "outputId": "83e0f9a5-2c6d-493b-97e3-76af9ce37a5f"
      },
      "source": [
        "y_lr = model_lr.predict(x_test)\n",
        "error_lr = (y_lr != y_test).sum()\n",
        "print(\"Number of Error : \",error_lr)"
      ],
      "execution_count": 44,
      "outputs": [
        {
          "output_type": "stream",
          "text": [
            "Number of Error :  72\n"
          ],
          "name": "stdout"
        }
      ]
    },
    {
      "cell_type": "code",
      "metadata": {
        "id": "E2i0OzstrjD5",
        "colab_type": "code",
        "colab": {
          "base_uri": "https://localhost:8080/",
          "height": 109
        },
        "outputId": "fdcfbce2-efeb-4ba3-ebbf-74486f7ec498"
      },
      "source": [
        "y = np.array(y_test)\n",
        "y_pred = np.array(y_lr)\n",
        "\n",
        "right,wrong1,wrong2,total=0,0,0,0\n",
        "\n",
        "for i in range(len(y_pred)):\n",
        "  if(y_pred[i]==1 and y[i]==1):\n",
        "    right=right+1\n",
        "  if(y_pred[i]==1 and y[i]==0):\n",
        "    wrong1=wrong1+1\n",
        "  if(y_pred[i]==0 and y[i]==1):\n",
        "    wrong2=wrong2+1\n",
        "  if(y[i]==1):\n",
        "    total=total+1\n",
        "\n",
        "\n",
        "print(\"Number of fruad : \",total)\n",
        "print(\"Number of Frauds detected : \",right + wrong1)\n",
        "print(\"Number of Frauds detected as Normal Transaction: \",wrong2)\n",
        "\n",
        "print(\"Accuracy : \",right/total)\n",
        "print(\"Detection Ratio: \",(right+wrong1)/total)"
      ],
      "execution_count": 45,
      "outputs": [
        {
          "output_type": "stream",
          "text": [
            "Number of fruad :  112\n",
            "Number of Frauds detected :  64\n",
            "Number of Frauds detected as Normal Transaction:  60\n",
            "Accuracy :  0.4642857142857143\n",
            "Detection Ratio:  0.5714285714285714\n"
          ],
          "name": "stdout"
        }
      ]
    },
    {
      "cell_type": "markdown",
      "metadata": {
        "id": "dRb7J1Hrs5ZJ",
        "colab_type": "text"
      },
      "source": [
        "#SVM"
      ]
    },
    {
      "cell_type": "code",
      "metadata": {
        "id": "cu0viLf6s1kl",
        "colab_type": "code",
        "colab": {}
      },
      "source": [
        "\n",
        "class SVM():\n",
        "    \n",
        "    #Simple implementation of a Support Vector Machine using the Sequential Minimal Optimization (SMO) algorithm for training.\n",
        "\n",
        "    def __init__(self, max_iter=10000, C=1.0, epsilon=0.001):\n",
        "        self.max_iter = max_iter\n",
        "        self.C = C\n",
        "        self.epsilon = epsilon\n",
        "\n",
        "    def fit(self, X, y):\n",
        "        # Initialization\n",
        "        n, d = X.shape[0], X.shape[1]\n",
        "        alpha = np.zeros((n))\n",
        "        count = 0\n",
        "        while True:\n",
        "            count += 1\n",
        "            alpha_prev = np.copy(alpha)\n",
        "            for j in range(0, n):\n",
        "                i = self.get_rnd_int(0, n-1, j) # Get random int i~=j\n",
        "                x_i = X.values[i,:]\n",
        "                x_j = X.values[j,:]\n",
        "                y_i = y.values[i]\n",
        "                y_j = y.values[j]\n",
        "\n",
        "                x_i = x_i.reshape(1, -1)  # only one sample\n",
        "                x_j = x_j.reshape(1, -1)\n",
        "\n",
        "                k_ij = rbf_kernel(x_i, x_i) + rbf_kernel(x_j, x_j) - 2 * rbf_kernel(x_i, x_j)\n",
        "                if k_ij == 0:\n",
        "                    continue\n",
        "                alpha_prime_j, alpha_prime_i = alpha[j], alpha[i]\n",
        "                (L, H) = self.compute_L_H(self.C, alpha_prime_j, alpha_prime_i, y_j, y_i)\n",
        "\n",
        "                # Compute model parameters\n",
        "                self.w = self.calc_w(alpha, y, X)\n",
        "                self.b = self.calc_b(X, y, self.w)\n",
        "\n",
        "                # Compute E_i, E_j\n",
        "                E_i = self.E(x_i, y_i, self.w, self.b)\n",
        "                E_j = self.E(x_j, y_j, self.w, self.b)\n",
        "\n",
        "                # Set new alpha values\n",
        "                alpha[j] = alpha_prime_j + float(y_j * (E_i - E_j))/k_ij\n",
        "                alpha[j] = max(alpha[j], L)\n",
        "                alpha[j] = min(alpha[j], H)\n",
        "\n",
        "                alpha[i] = alpha_prime_i + y_i*y_j * (alpha_prime_j - alpha[j])\n",
        "\n",
        "            # Check convergence\n",
        "            diff = np.linalg.norm(alpha - alpha_prev)\n",
        "            if diff < self.epsilon:\n",
        "                break\n",
        "\n",
        "            if count >= self.max_iter:\n",
        "                print(\"Iteration number exceeded the max of %d iterations\" % (self.max_iter))\n",
        "                return\n",
        "        # Compute final model parameters\n",
        "        self.b = self.calc_b(X, y, self.w)\n",
        "        # Get support vectors\n",
        "        alpha_idx = np.where(alpha > 0)[0]\n",
        "        support_vectors = X.values[alpha_idx, :]\n",
        "        return support_vectors, count\n",
        "\n",
        "\n",
        "    def predict(self, X):\n",
        "        return self.h(X, self.w, self.b)\n",
        "\n",
        "\n",
        "    def calc_b(self, X, y, w):\n",
        "        b_tmp = y - np.dot(w.T, X.T)\n",
        "        return np.mean(b_tmp)\n",
        "\n",
        "\n",
        "    def calc_w(self, alpha, y, X):\n",
        "        return np.dot(X.T, np.multiply(alpha,y))\n",
        "\n",
        "\n",
        "    # Prediction\n",
        "    def h(self, X, w, b):\n",
        "        return np.sign(np.dot(w.T, X.T) + b).astype(int)\n",
        "\n",
        "\n",
        "    # Prediction error\n",
        "    def E(self, x_k, y_k, w, b):\n",
        "        return self.h(x_k, w, b) - y_k\n",
        "\n",
        "\n",
        "    def compute_L_H(self, C, alpha_prime_j, alpha_prime_i, y_j, y_i):\n",
        "        if(y_i != y_j):\n",
        "            return (max(0, alpha_prime_j - alpha_prime_i), min(C, C - alpha_prime_i + alpha_prime_j))\n",
        "        else:\n",
        "            return (max(0, alpha_prime_i + alpha_prime_j - C), min(C, alpha_prime_i + alpha_prime_j))\n",
        "\n",
        "\n",
        "    def get_rnd_int(self, a,b,z):\n",
        "        i = z\n",
        "        cnt=0\n",
        "        while i == z and cnt<1000:\n",
        "            i = rnd.randint(a,b)\n",
        "            cnt=cnt+1\n",
        "        return i"
      ],
      "execution_count": 0,
      "outputs": []
    },
    {
      "cell_type": "code",
      "metadata": {
        "id": "DAedq5Y2tLoo",
        "colab_type": "code",
        "colab": {}
      },
      "source": [
        ""
      ],
      "execution_count": 0,
      "outputs": []
    },
    {
      "cell_type": "markdown",
      "metadata": {
        "id": "09R28CuktOIP",
        "colab_type": "text"
      },
      "source": [
        "#Isolation Forest"
      ]
    },
    {
      "cell_type": "code",
      "metadata": {
        "id": "ipTxWRcBtRah",
        "colab_type": "code",
        "colab": {}
      },
      "source": [
        "import numpy as np\n",
        "import pandas as pd\n",
        "import random\n",
        "\n",
        "class IsolationTreeEnsemble:\n",
        "\n",
        "    def __init__(self, sample_size, n_trees=10):\n",
        "        self.sample_size = sample_size\n",
        "        self.n_trees = n_trees\n",
        "        self.height_limit = np.log2(sample_size)\n",
        "        self.trees = []\n",
        "\n",
        "    def fit(self, X:np.ndarray):\n",
        "        if isinstance(X, pd.DataFrame):\n",
        "            X = X.values\n",
        "            len_x = len(X)\n",
        "            col_x = X.shape[1]\n",
        "            self.trees = []\n",
        "        for i in range(self.n_trees):\n",
        "          sample_idx = random.sample(list(range(len_x)), self.sample_size)\n",
        "          temp_tree = IsolationTree(self.height_limit, 0).fit(X[sample_idx, :])\n",
        "          self.trees.append(temp_tree)\n",
        "        return self\n",
        "\n",
        "    def path_length(self, X:np.ndarray) -> np.ndarray:\n",
        "        pl_vector = []\n",
        "        if isinstance(X, pd.DataFrame):\n",
        "            X = X.values\n",
        "        for x in (X):\n",
        "            pl = np.array([path_length_tree(x, t, 0) for t in self.trees])\n",
        "            pl = pl.mean()\n",
        "            pl_vector.append(pl)\n",
        "        pl_vector = np.array(pl_vector).reshape(-1, 1)\n",
        "        return pl_vector\n",
        "\n",
        "    def anomaly_score(self, X:np.ndarray) -> np.ndarray:\n",
        "        \"\"\"\n",
        "        Given a 2D matrix of observations, X, compute the anomaly score\n",
        "        for each x_i observation, returning an ndarray of them.\n",
        "        \"\"\"\n",
        "        return 2.0 ** (-1.0 * self.path_length(X) / c(len(X)))\n",
        "\n",
        "    def predict_from_anomaly_scores(self, scores:np.ndarray, threshold:float) -> np.ndarray:\n",
        "        \"\"\"\n",
        "        Given an array of scores and a score threshold, return an array of\n",
        "        the predictions: 1 for any score >= the threshold and 0 otherwise.\n",
        "        \"\"\"\n",
        "\n",
        "        predictions = [1 if p[0] >= threshold else 0 for p in scores]\n",
        "\n",
        "        return predictions\n",
        "        \n",
        "    def predict(self, X:np.ndarray, threshold:float) -> np.ndarray:\n",
        "        if isinstance(X, pd.DataFrame):\n",
        "            X = X.values\n",
        "        scores = 2.0 ** (-1.0 * self.path_length(X) / c(len(X)))\n",
        "        predictions = [1 if p[0] >= threshold else 0 for p in scores]\n",
        "        return predictions\n",
        "\n",
        "\n",
        "\n",
        "class IsolationTree:\n",
        "\n",
        "    def __init__(self, height_limit, current_height):\n",
        "        self.height_limit = height_limit\n",
        "        self.current_height = current_height\n",
        "        self.split_by = None\n",
        "        self.split_value = None\n",
        "        self.right = None\n",
        "        self.left = None\n",
        "        self.size = 0\n",
        "        self.exnodes = 0\n",
        "        self.n_nodes = 1\n",
        "\n",
        "    def fit(self, X:np.ndarray):\n",
        "        if len(X) <= 1 or self.current_height >= self.height_limit:\n",
        "            self.exnodes = 1\n",
        "            self.size = X.shape[0]\n",
        "            return self\n",
        "        split_by = random.choice(np.arange(X.shape[1]))\n",
        "        X_col = X[:, split_by]\n",
        "        min_x = X_col.min()\n",
        "        max_x = X_col.max()\n",
        "        if min_x == max_x:\n",
        "            self.exnodes = 1\n",
        "            self.size = len(X)\n",
        "            return self\n",
        "        else:\n",
        "            split_value = min_x + random.betavariate(0.5, 0.5) * (max_x - min_x)\n",
        "            w = np.where(X_col < split_value, True, False)\n",
        "            del X_col\n",
        "            self.size = X.shape[0]\n",
        "            self.split_by = split_by\n",
        "            self.split_value = split_value\n",
        "            self.left = IsolationTree(self.height_limit, self.current_height + 1).fit(X[w])\n",
        "            self.right = IsolationTree(self.height_limit, self.current_height + 1).fit(X[~w])\n",
        "            self.n_nodes = self.left.n_nodes + self.right.n_nodes + 1\n",
        "        return self\n",
        "\n",
        "def c(n):\n",
        "    if n > 2:\n",
        "        return 2.0*(np.log(n-1)+0.5772156649) - (2.0*(n-1.)/(n*1.0))\n",
        "    elif n == 2:\n",
        "        return 1\n",
        "    if n == 1:\n",
        "        return 0\n",
        "\n",
        "def path_length_tree(x, t,e):\n",
        "    e = e\n",
        "    if t.exnodes == 1:\n",
        "        e = e+ c(t.size)\n",
        "        return e\n",
        "    else:\n",
        "        a = t.split_by\n",
        "        if x[a] < t.split_value :\n",
        "            return path_length_tree(x, t.left, e+1)\n",
        "\n",
        "        if x[a] >= t.split_value :\n",
        "            return path_length_tree(x, t.right, e+1)"
      ],
      "execution_count": 0,
      "outputs": []
    },
    {
      "cell_type": "code",
      "metadata": {
        "id": "VyPbuoh7t2Ur",
        "colab_type": "code",
        "colab": {
          "base_uri": "https://localhost:8080/",
          "height": 35
        },
        "outputId": "908340c7-8900-4219-f14c-17249fbf26da"
      },
      "source": [
        "it = IsolationTreeEnsemble(sample_size=512, n_trees=100)\n",
        "it.fit(x_train)"
      ],
      "execution_count": 49,
      "outputs": [
        {
          "output_type": "execute_result",
          "data": {
            "text/plain": [
              "<__main__.IsolationTreeEnsemble at 0x7f49085b4908>"
            ]
          },
          "metadata": {
            "tags": []
          },
          "execution_count": 49
        }
      ]
    },
    {
      "cell_type": "code",
      "metadata": {
        "id": "hgO5WfJcuLqE",
        "colab_type": "code",
        "colab": {}
      },
      "source": [
        "scores = it.anomaly_score(x)\n",
        "y_pred = it.predict_from_anomaly_scores(scores, 0.7)"
      ],
      "execution_count": 0,
      "outputs": []
    },
    {
      "cell_type": "code",
      "metadata": {
        "id": "2i_0vHnzuS0C",
        "colab_type": "code",
        "colab": {
          "base_uri": "https://localhost:8080/",
          "height": 128
        },
        "outputId": "747b36ca-82a3-4a7b-bfc4-3bbb6d885ffc"
      },
      "source": [
        "y=np.array(y)\n",
        "y_pred=np.array(y_pred)\n",
        "\n",
        "for i in range(len(y_pred)):\n",
        "  if(y_pred[i]==1 and y[i]==1):\n",
        "    right=right+1\n",
        "  if(y_pred[i]==1 and y[i]==0):\n",
        "    wrong1=wrong1+1\n",
        "  if(y_pred[i]==0 and y[i]==1):\n",
        "    wrong2=wrong2+1\n",
        "  if(y[i]==1):\n",
        "    total=total+1\n",
        "\n",
        "\n",
        "print(\"Number of fruad : \",total)\n",
        "print(\"Number of Frauds detected : \",right + wrong1)\n",
        "print(\"Number of Normal Transaction detected as Fraud : \",wrong1)\n",
        "print(\"Number of Frauds detected as Normal Transaction: \",wrong2)\n",
        "\n",
        "print(\"Accuracy : \",right/total)\n",
        "print(\"Detection Ratio: \",(right+wrong1)/total)"
      ],
      "execution_count": 54,
      "outputs": [
        {
          "output_type": "stream",
          "text": [
            "Number of fruad :  716\n",
            "Number of Frauds detected :  6846\n",
            "Number of Normal Transaction detected as Fraud :  6403\n",
            "Number of Frauds detected as Normal Transaction:  273\n",
            "Accuracy :  0.6187150837988827\n",
            "Detection Ratio:  9.561452513966481\n"
          ],
          "name": "stdout"
        }
      ]
    },
    {
      "cell_type": "markdown",
      "metadata": {
        "id": "xQCh_hXmtSbX",
        "colab_type": "text"
      },
      "source": [
        "#Local Outlier Factor (LOF)"
      ]
    },
    {
      "cell_type": "code",
      "metadata": {
        "id": "eaS1am0ptZUQ",
        "colab_type": "code",
        "colab": {}
      },
      "source": [
        "def LocalOutlierFactor(X, k, outlier_threshold = 1.2):\n",
        "\n",
        "    # KDtree is a space-partitioning data structure for organizing points in a k-dimensional space. \n",
        "    # X = dataset, leaf_size = Number of points at which to switch to brute-force. , p = 2 means a euclidean distance metric\n",
        "    BT = KDTree(X, leaf_size=k, p=2)\n",
        "\n",
        "    distance, index = BT.query(X, k)\n",
        "    distance, index = distance[:, 1:], index[:, 1:] \n",
        "    radius = distance[:, -1]\n",
        "\n",
        "    #Calculate Local Reachability Distance.\n",
        "    LRD = np.mean(np.maximum(distance, radius[index]), axis=1)\n",
        "    r = 1. / np.array(LRD)\n",
        "\n",
        "    #Calculate outlier score.\n",
        "    outlier_score = np.sum(r[index], axis=1) / np.array(r, dtype=np.float16)\n",
        "    outlier_score *= 1. / k\n",
        "\n",
        "    # target class\n",
        "    y = []\n",
        "\n",
        "    # check whether given instance in outlier or not based on their outlier_score and outlier_threshold\n",
        "    for i, score in enumerate(outlier_score):\n",
        "        if score > outlier_threshold:\n",
        "            y.append(1)\n",
        "        else :\n",
        "            y.append(0)\n",
        "\n",
        "    return y"
      ],
      "execution_count": 0,
      "outputs": []
    },
    {
      "cell_type": "code",
      "metadata": {
        "id": "-5_Km_5Dvnkf",
        "colab_type": "code",
        "colab": {}
      },
      "source": [
        "y_lof = LocalOutlierFactor(x, k=10, outlier_threshold = 3)\n",
        "print(accuracy_score(y,y_lof))"
      ],
      "execution_count": 0,
      "outputs": []
    },
    {
      "cell_type": "code",
      "metadata": {
        "id": "AlK5-ThHv-pf",
        "colab_type": "code",
        "colab": {}
      },
      "source": [
        ""
      ],
      "execution_count": 0,
      "outputs": []
    }
  ]
}