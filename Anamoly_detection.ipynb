{
  "nbformat": 4,
  "nbformat_minor": 0,
  "metadata": {
    "colab": {
      "name": "Anamoly_detection.ipynb",
      "provenance": [],
      "collapsed_sections": [
        "7yWpXUA5clYX",
        "yLYIvFRZdBNB",
        "QTI5UrNSqpSa",
        "dRb7J1Hrs5ZJ",
        "xQCh_hXmtSbX"
      ]
    },
    "kernelspec": {
      "name": "python3",
      "display_name": "Python 3"
    }
  },
  "cells": [
    {
      "cell_type": "markdown",
      "metadata": {
        "id": "0LjXMzZacX4b",
        "colab_type": "text"
      },
      "source": [
        "## Anomaly detection in Payments using ML"
      ]
    },
    {
      "cell_type": "markdown",
      "metadata": {
        "id": "7yWpXUA5clYX",
        "colab_type": "text"
      },
      "source": [
        "#import Libraries"
      ]
    },
    {
      "cell_type": "code",
      "metadata": {
        "id": "09-5-rLEchtE",
        "colab_type": "code",
        "outputId": "14ee1441-8874-4af7-d74b-29700696634e",
        "colab": {
          "base_uri": "https://localhost:8080/",
          "height": 74
        }
      },
      "source": [
        "import numpy as np\n",
        "import pandas as pd\n",
        "import random as rn\n",
        "import matplotlib.pyplot as plt\n",
        "from mpl_toolkits.mplot3d import axes3d\n",
        "from sklearn.model_selection import train_test_split\n",
        "import seaborn as sns\n",
        "from sklearn.metrics import classification_report,accuracy_score, confusion_matrix\n",
        "from sklearn.neighbors import KDTree\n",
        "from sklearn.metrics import average_precision_score\n",
        "from sklearn.metrics import precision_recall_curve\n",
        "from sklearn.metrics import plot_precision_recall_curve"
      ],
      "execution_count": 3,
      "outputs": [
        {
          "output_type": "stream",
          "text": [
            "/usr/local/lib/python3.6/dist-packages/statsmodels/tools/_testing.py:19: FutureWarning: pandas.util.testing is deprecated. Use the functions in the public API at pandas.testing instead.\n",
            "  import pandas.util.testing as tm\n"
          ],
          "name": "stderr"
        }
      ]
    },
    {
      "cell_type": "markdown",
      "metadata": {
        "id": "yLYIvFRZdBNB",
        "colab_type": "text"
      },
      "source": [
        "# Data Loading & Visulization"
      ]
    },
    {
      "cell_type": "code",
      "metadata": {
        "id": "hmFHSFyidEUN",
        "colab_type": "code",
        "outputId": "56804940-4b5e-471d-d952-4fb2faa41629",
        "colab": {
          "base_uri": "https://localhost:8080/",
          "height": 226
        }
      },
      "source": [
        "data=pd.read_csv(r'/content/drive/My Drive/creditcard.csv') \n",
        "data.head()"
      ],
      "execution_count": 4,
      "outputs": [
        {
          "output_type": "execute_result",
          "data": {
            "text/html": [
              "<div>\n",
              "<style scoped>\n",
              "    .dataframe tbody tr th:only-of-type {\n",
              "        vertical-align: middle;\n",
              "    }\n",
              "\n",
              "    .dataframe tbody tr th {\n",
              "        vertical-align: top;\n",
              "    }\n",
              "\n",
              "    .dataframe thead th {\n",
              "        text-align: right;\n",
              "    }\n",
              "</style>\n",
              "<table border=\"1\" class=\"dataframe\">\n",
              "  <thead>\n",
              "    <tr style=\"text-align: right;\">\n",
              "      <th></th>\n",
              "      <th>Time</th>\n",
              "      <th>V1</th>\n",
              "      <th>V2</th>\n",
              "      <th>V3</th>\n",
              "      <th>V4</th>\n",
              "      <th>V5</th>\n",
              "      <th>V6</th>\n",
              "      <th>V7</th>\n",
              "      <th>V8</th>\n",
              "      <th>V9</th>\n",
              "      <th>V10</th>\n",
              "      <th>V11</th>\n",
              "      <th>V12</th>\n",
              "      <th>V13</th>\n",
              "      <th>V14</th>\n",
              "      <th>V15</th>\n",
              "      <th>V16</th>\n",
              "      <th>V17</th>\n",
              "      <th>V18</th>\n",
              "      <th>V19</th>\n",
              "      <th>V20</th>\n",
              "      <th>V21</th>\n",
              "      <th>V22</th>\n",
              "      <th>V23</th>\n",
              "      <th>V24</th>\n",
              "      <th>V25</th>\n",
              "      <th>V26</th>\n",
              "      <th>V27</th>\n",
              "      <th>V28</th>\n",
              "      <th>Amount</th>\n",
              "      <th>Class</th>\n",
              "    </tr>\n",
              "  </thead>\n",
              "  <tbody>\n",
              "    <tr>\n",
              "      <th>0</th>\n",
              "      <td>0.0</td>\n",
              "      <td>-1.359807</td>\n",
              "      <td>-0.072781</td>\n",
              "      <td>2.536347</td>\n",
              "      <td>1.378155</td>\n",
              "      <td>-0.338321</td>\n",
              "      <td>0.462388</td>\n",
              "      <td>0.239599</td>\n",
              "      <td>0.098698</td>\n",
              "      <td>0.363787</td>\n",
              "      <td>0.090794</td>\n",
              "      <td>-0.551600</td>\n",
              "      <td>-0.617801</td>\n",
              "      <td>-0.991390</td>\n",
              "      <td>-0.311169</td>\n",
              "      <td>1.468177</td>\n",
              "      <td>-0.470401</td>\n",
              "      <td>0.207971</td>\n",
              "      <td>0.025791</td>\n",
              "      <td>0.403993</td>\n",
              "      <td>0.251412</td>\n",
              "      <td>-0.018307</td>\n",
              "      <td>0.277838</td>\n",
              "      <td>-0.110474</td>\n",
              "      <td>0.066928</td>\n",
              "      <td>0.128539</td>\n",
              "      <td>-0.189115</td>\n",
              "      <td>0.133558</td>\n",
              "      <td>-0.021053</td>\n",
              "      <td>149.62</td>\n",
              "      <td>0</td>\n",
              "    </tr>\n",
              "    <tr>\n",
              "      <th>1</th>\n",
              "      <td>0.0</td>\n",
              "      <td>1.191857</td>\n",
              "      <td>0.266151</td>\n",
              "      <td>0.166480</td>\n",
              "      <td>0.448154</td>\n",
              "      <td>0.060018</td>\n",
              "      <td>-0.082361</td>\n",
              "      <td>-0.078803</td>\n",
              "      <td>0.085102</td>\n",
              "      <td>-0.255425</td>\n",
              "      <td>-0.166974</td>\n",
              "      <td>1.612727</td>\n",
              "      <td>1.065235</td>\n",
              "      <td>0.489095</td>\n",
              "      <td>-0.143772</td>\n",
              "      <td>0.635558</td>\n",
              "      <td>0.463917</td>\n",
              "      <td>-0.114805</td>\n",
              "      <td>-0.183361</td>\n",
              "      <td>-0.145783</td>\n",
              "      <td>-0.069083</td>\n",
              "      <td>-0.225775</td>\n",
              "      <td>-0.638672</td>\n",
              "      <td>0.101288</td>\n",
              "      <td>-0.339846</td>\n",
              "      <td>0.167170</td>\n",
              "      <td>0.125895</td>\n",
              "      <td>-0.008983</td>\n",
              "      <td>0.014724</td>\n",
              "      <td>2.69</td>\n",
              "      <td>0</td>\n",
              "    </tr>\n",
              "    <tr>\n",
              "      <th>2</th>\n",
              "      <td>1.0</td>\n",
              "      <td>-1.358354</td>\n",
              "      <td>-1.340163</td>\n",
              "      <td>1.773209</td>\n",
              "      <td>0.379780</td>\n",
              "      <td>-0.503198</td>\n",
              "      <td>1.800499</td>\n",
              "      <td>0.791461</td>\n",
              "      <td>0.247676</td>\n",
              "      <td>-1.514654</td>\n",
              "      <td>0.207643</td>\n",
              "      <td>0.624501</td>\n",
              "      <td>0.066084</td>\n",
              "      <td>0.717293</td>\n",
              "      <td>-0.165946</td>\n",
              "      <td>2.345865</td>\n",
              "      <td>-2.890083</td>\n",
              "      <td>1.109969</td>\n",
              "      <td>-0.121359</td>\n",
              "      <td>-2.261857</td>\n",
              "      <td>0.524980</td>\n",
              "      <td>0.247998</td>\n",
              "      <td>0.771679</td>\n",
              "      <td>0.909412</td>\n",
              "      <td>-0.689281</td>\n",
              "      <td>-0.327642</td>\n",
              "      <td>-0.139097</td>\n",
              "      <td>-0.055353</td>\n",
              "      <td>-0.059752</td>\n",
              "      <td>378.66</td>\n",
              "      <td>0</td>\n",
              "    </tr>\n",
              "    <tr>\n",
              "      <th>3</th>\n",
              "      <td>1.0</td>\n",
              "      <td>-0.966272</td>\n",
              "      <td>-0.185226</td>\n",
              "      <td>1.792993</td>\n",
              "      <td>-0.863291</td>\n",
              "      <td>-0.010309</td>\n",
              "      <td>1.247203</td>\n",
              "      <td>0.237609</td>\n",
              "      <td>0.377436</td>\n",
              "      <td>-1.387024</td>\n",
              "      <td>-0.054952</td>\n",
              "      <td>-0.226487</td>\n",
              "      <td>0.178228</td>\n",
              "      <td>0.507757</td>\n",
              "      <td>-0.287924</td>\n",
              "      <td>-0.631418</td>\n",
              "      <td>-1.059647</td>\n",
              "      <td>-0.684093</td>\n",
              "      <td>1.965775</td>\n",
              "      <td>-1.232622</td>\n",
              "      <td>-0.208038</td>\n",
              "      <td>-0.108300</td>\n",
              "      <td>0.005274</td>\n",
              "      <td>-0.190321</td>\n",
              "      <td>-1.175575</td>\n",
              "      <td>0.647376</td>\n",
              "      <td>-0.221929</td>\n",
              "      <td>0.062723</td>\n",
              "      <td>0.061458</td>\n",
              "      <td>123.50</td>\n",
              "      <td>0</td>\n",
              "    </tr>\n",
              "    <tr>\n",
              "      <th>4</th>\n",
              "      <td>2.0</td>\n",
              "      <td>-1.158233</td>\n",
              "      <td>0.877737</td>\n",
              "      <td>1.548718</td>\n",
              "      <td>0.403034</td>\n",
              "      <td>-0.407193</td>\n",
              "      <td>0.095921</td>\n",
              "      <td>0.592941</td>\n",
              "      <td>-0.270533</td>\n",
              "      <td>0.817739</td>\n",
              "      <td>0.753074</td>\n",
              "      <td>-0.822843</td>\n",
              "      <td>0.538196</td>\n",
              "      <td>1.345852</td>\n",
              "      <td>-1.119670</td>\n",
              "      <td>0.175121</td>\n",
              "      <td>-0.451449</td>\n",
              "      <td>-0.237033</td>\n",
              "      <td>-0.038195</td>\n",
              "      <td>0.803487</td>\n",
              "      <td>0.408542</td>\n",
              "      <td>-0.009431</td>\n",
              "      <td>0.798278</td>\n",
              "      <td>-0.137458</td>\n",
              "      <td>0.141267</td>\n",
              "      <td>-0.206010</td>\n",
              "      <td>0.502292</td>\n",
              "      <td>0.219422</td>\n",
              "      <td>0.215153</td>\n",
              "      <td>69.99</td>\n",
              "      <td>0</td>\n",
              "    </tr>\n",
              "  </tbody>\n",
              "</table>\n",
              "</div>"
            ],
            "text/plain": [
              "   Time        V1        V2        V3  ...       V27       V28  Amount  Class\n",
              "0   0.0 -1.359807 -0.072781  2.536347  ...  0.133558 -0.021053  149.62      0\n",
              "1   0.0  1.191857  0.266151  0.166480  ... -0.008983  0.014724    2.69      0\n",
              "2   1.0 -1.358354 -1.340163  1.773209  ... -0.055353 -0.059752  378.66      0\n",
              "3   1.0 -0.966272 -0.185226  1.792993  ...  0.062723  0.061458  123.50      0\n",
              "4   2.0 -1.158233  0.877737  1.548718  ...  0.219422  0.215153   69.99      0\n",
              "\n",
              "[5 rows x 31 columns]"
            ]
          },
          "metadata": {
            "tags": []
          },
          "execution_count": 4
        }
      ]
    },
    {
      "cell_type": "markdown",
      "metadata": {
        "id": "_WBs5BdFdmgy",
        "colab_type": "text"
      },
      "source": [
        "We can see above that there are 28 PCA components provided to us as it is not appropriate to provide someone's private details in dataset. Here We have another 2 features-Time and Amount. So there are total 30 features in our dataset. Label is provided to each Transaction i.e 0 for normal transaction and 1 for fraud transaction.\n",
        "\n",
        "Time :- Number of seconds elapsed between this transaction and the first transaction in the dataset\n",
        "\n",
        "Checking whether there is any missing value.\n"
      ]
    },
    {
      "cell_type": "code",
      "metadata": {
        "id": "x2_fKa_5dngt",
        "colab_type": "code",
        "outputId": "a375763e-791e-4050-c70b-4133400e21c0",
        "colab": {
          "base_uri": "https://localhost:8080/",
          "height": 35
        }
      },
      "source": [
        "data.isnull().values.any()"
      ],
      "execution_count": 138,
      "outputs": [
        {
          "output_type": "execute_result",
          "data": {
            "text/plain": [
              "False"
            ]
          },
          "metadata": {
            "tags": []
          },
          "execution_count": 138
        }
      ]
    },
    {
      "cell_type": "code",
      "metadata": {
        "id": "uAGXgUrsea1V",
        "colab_type": "code",
        "outputId": "a625f1ee-a827-4892-8974-eaf450686149",
        "colab": {
          "base_uri": "https://localhost:8080/",
          "height": 279
        }
      },
      "source": [
        "sns.countplot(x=\"Class\",data=data)\n",
        "plt.xlabel(\"0=Normal,1=Fraud\")\n",
        "plt.ylabel(\"Frequency\")\n",
        "plt.show()"
      ],
      "execution_count": 139,
      "outputs": [
        {
          "output_type": "display_data",
          "data": {
            "image/png": "[encoded data removed]",
            "text/plain": [
              "<Figure size 432x288 with 1 Axes>"
            ]
          },
          "metadata": {
            "tags": [],
            "needs_background": "light"
          }
        }
      ]
    },
    {
      "cell_type": "code",
      "metadata": {
        "id": "bNxQQyk5el4z",
        "colab_type": "code",
        "outputId": "c6d83e13-c813-4fd8-a545-b7d9965de32b",
        "colab": {
          "base_uri": "https://localhost:8080/",
          "height": 72
        }
      },
      "source": [
        "fraud = data[data['Class']==1]\n",
        "normal = data[data['Class']==0]\n",
        "print(\"Number of fraud transactions :\", len(fraud))\n",
        "print(\"Number of normal transactions :\", len(normal))\n",
        "outlier_fraction = len(fraud)/float(len(normal))\n",
        "print(\"Outlier Fraction:\",outlier_fraction)"
      ],
      "execution_count": 140,
      "outputs": [
        {
          "output_type": "stream",
          "text": [
            "Number of fraud transactions : 492\n",
            "Number of normal transactions : 284315\n",
            "Outlier Fraction: 0.0017304750013189597\n"
          ],
          "name": "stdout"
        }
      ]
    },
    {
      "cell_type": "markdown",
      "metadata": {
        "id": "grS_Kkwllckc",
        "colab_type": "text"
      },
      "source": [
        "We Will check Do fraudulent transactions occur more often during certain time frame ? Let us find out with a visual representation."
      ]
    },
    {
      "cell_type": "code",
      "metadata": {
        "id": "wb_tFL_ak3BJ",
        "colab_type": "code",
        "outputId": "79aca663-90ce-4015-87dd-4ef8137c6281",
        "colab": {
          "base_uri": "https://localhost:8080/",
          "height": 308
        }
      },
      "source": [
        "f, (ax1, ax2) = plt.subplots(2, 1, sharex=True)\n",
        "f.suptitle('Time of transaction vs Amount by class')\n",
        "ax1.scatter(fraud.Time, fraud.Amount)\n",
        "ax1.set_title('Fraud')\n",
        "ax2.scatter(normal.Time, normal.Amount)\n",
        "ax2.set_title('Normal')\n",
        "plt.xlabel('Time (in Seconds)')\n",
        "plt.ylabel('Amount')\n",
        "plt.show()"
      ],
      "execution_count": 141,
      "outputs": [
        {
          "output_type": "display_data",
          "data": {
            "image/png": "[encoded data removed]",
            "text/plain": [
              "<Figure size 432x288 with 2 Axes>"
            ]
          },
          "metadata": {
            "tags": [],
            "needs_background": "light"
          }
        }
      ]
    },
    {
      "cell_type": "markdown",
      "metadata": {
        "id": "8B21j0Rym49F",
        "colab_type": "text"
      },
      "source": [
        "We Will check Do fraudulent transactions occur more often for certain amount ? Let us find out with a visual representation."
      ]
    },
    {
      "cell_type": "code",
      "metadata": {
        "id": "DLZcJy3Im_vi",
        "colab_type": "code",
        "outputId": "18d15cdc-f3e6-45b0-d671-b0d94123af3e",
        "colab": {
          "base_uri": "https://localhost:8080/",
          "height": 308
        }
      },
      "source": [
        "f, (ax1, ax2) = plt.subplots(2, 1, sharex=True)\n",
        "f.suptitle('Amount per transaction by class')\n",
        "bins = 50\n",
        "ax1.hist(fraud.Amount, bins = bins)\n",
        "ax1.set_title('Fraud')\n",
        "ax2.hist(normal.Amount, bins = bins)\n",
        "ax2.set_title('Normal')\n",
        "plt.xlabel('Amount ($)')\n",
        "plt.ylabel('Number of Transactions')\n",
        "plt.xlim((0, 20000))\n",
        "plt.yscale('log')\n",
        "plt.show();"
      ],
      "execution_count": 142,
      "outputs": [
        {
          "output_type": "display_data",
          "data": {
            "image/png": "[encoded data removed]",
            "text/plain": [
              "<Figure size 432x288 with 2 Axes>"
            ]
          },
          "metadata": {
            "tags": [],
            "needs_background": "light"
          }
        }
      ]
    },
    {
      "cell_type": "markdown",
      "metadata": {
        "id": "ZaFbnqimoQYc",
        "colab_type": "text"
      },
      "source": [
        "Description of Fraudulent transactions"
      ]
    },
    {
      "cell_type": "code",
      "metadata": {
        "id": "bBahSIchoXP6",
        "colab_type": "code",
        "outputId": "35982f74-d672-46f6-f3fa-80bc8868b1ef",
        "colab": {
          "base_uri": "https://localhost:8080/",
          "height": 183
        }
      },
      "source": [
        "fraud.Amount.describe()"
      ],
      "execution_count": 143,
      "outputs": [
        {
          "output_type": "execute_result",
          "data": {
            "text/plain": [
              "count     492.000000\n",
              "mean      122.211321\n",
              "std       256.683288\n",
              "min         0.000000\n",
              "25%         1.000000\n",
              "50%         9.250000\n",
              "75%       105.890000\n",
              "max      2125.870000\n",
              "Name: Amount, dtype: float64"
            ]
          },
          "metadata": {
            "tags": []
          },
          "execution_count": 143
        }
      ]
    },
    {
      "cell_type": "code",
      "metadata": {
        "id": "hxRNhAULpDvi",
        "colab_type": "code",
        "colab": {}
      },
      "source": [
        "x=data.iloc[1:, 0:29]     \n",
        "y=data.iloc[1:,30]\n",
        "x=(x-np.mean(x))/np.std(x)\n",
        "x_train,x_test,y_train,y_test=train_test_split(x,y,test_size=0.10)"
      ],
      "execution_count": 0,
      "outputs": []
    },
    {
      "cell_type": "code",
      "metadata": {
        "id": "lA9aqpkAdEj9",
        "colab_type": "code",
        "colab": {}
      },
      "source": [
        "data_sample = data.sample(frac = 0.25,random_state=1)\n",
        "x_sample = data_sample.iloc[1:, 0:29]     \n",
        "y_sample = data_sample.iloc[1:,30]"
      ],
      "execution_count": 0,
      "outputs": []
    },
    {
      "cell_type": "markdown",
      "metadata": {
        "id": "QTI5UrNSqpSa",
        "colab_type": "text"
      },
      "source": [
        "#Logistic Regression"
      ]
    },
    {
      "cell_type": "code",
      "metadata": {
        "id": "QajQm1CDqxZ-",
        "colab_type": "code",
        "colab": {}
      },
      "source": [
        "class LogisticRegression:\n",
        "    def __init__(self, lr=0.01, num_iter=100000, fit_intercept=True):\n",
        "         # lr : Learning Rate\n",
        "         # num_iter : Number of Iterations\n",
        "         # fit_intercept : Specifies if a constant (a.k.a. bias or intercept) should be added to the decision function.\n",
        "        self.lr = lr\n",
        "        self.num_iter = num_iter\n",
        "        self.fit_intercept = fit_intercept\n",
        "    \n",
        "    # add column for intercept\n",
        "    def __add_intercept(self, X):\n",
        "        intercept = np.ones((X.shape[0], 1))\n",
        "        return np.concatenate((intercept, X), axis=1)\n",
        "    \n",
        "    # Sigmond Function\n",
        "    def __sigmoid(self, z):\n",
        "        return 1 / (1 + np.exp(-z))\n",
        "\n",
        "    # training function\n",
        "    def fit(self, X, y):\n",
        "        if self.fit_intercept:\n",
        "            X = self.__add_intercept(X)\n",
        "        \n",
        "        # weights initialization\n",
        "        self.theta = np.zeros(X.shape[1])\n",
        "        \n",
        "        # Gradient descent\n",
        "        for _ in range(self.num_iter):\n",
        "            z = np.dot(X, self.theta)\n",
        "            h = self.__sigmoid(z)\n",
        "            gradient = np.dot(X.T, (h - y)) / y.size\n",
        "            self.theta -= self.lr * gradient\n",
        "            \n",
        "    # test function\n",
        "    def predict_prob(self, X):\n",
        "        if self.fit_intercept:\n",
        "            X = self.__add_intercept(X)\n",
        "        return self.__sigmoid(np.dot(X, self.theta))\n",
        "    \n",
        "    def decision_function(self, X):\n",
        "        return self.predict_prob(X).round()"
      ],
      "execution_count": 0,
      "outputs": []
    },
    {
      "cell_type": "markdown",
      "metadata": {
        "id": "2L_Z-L8XKX_C",
        "colab_type": "text"
      },
      "source": [
        "LR training"
      ]
    },
    {
      "cell_type": "code",
      "metadata": {
        "id": "ks6sPkJvq_0b",
        "colab_type": "code",
        "colab": {}
      },
      "source": [
        "model_lr = LogisticRegression(lr=0.01, num_iter=1000)\n",
        "model_lr.fit(x_train, y_train)"
      ],
      "execution_count": 0,
      "outputs": []
    },
    {
      "cell_type": "markdown",
      "metadata": {
        "id": "jc-VOPljKbAL",
        "colab_type": "text"
      },
      "source": [
        "LR testing"
      ]
    },
    {
      "cell_type": "code",
      "metadata": {
        "id": "bvr919TOrZ3w",
        "colab_type": "code",
        "colab": {}
      },
      "source": [
        "y_lr = model_lr.decision_function(x_test)"
      ],
      "execution_count": 0,
      "outputs": []
    },
    {
      "cell_type": "markdown",
      "metadata": {
        "id": "_bD-StkuKejt",
        "colab_type": "text"
      },
      "source": [
        "Confusion Matrix"
      ]
    },
    {
      "cell_type": "code",
      "metadata": {
        "id": "E2i0OzstrjD5",
        "colab_type": "code",
        "outputId": "a3b79b68-ebd7-44b1-fbfc-9b0d0868f076",
        "colab": {
          "base_uri": "https://localhost:8080/",
          "height": 302
        }
      },
      "source": [
        "cm_lr = confusion_matrix(y_lr,y_test)\n",
        "cm_lr_p = pd.DataFrame(cm_lr, index = [i for i in {\"Fraud\",\"Normal\"}], columns = [i for i in {\"Fraud\",\"Normal\"}])\n",
        "sns.heatmap(cm_lr_p, annot=True, annot_kws={\"size\": 16})\n",
        "print(\"Vertical : Actual\")\n",
        "print(\"Horizontal : Predicted\")"
      ],
      "execution_count": 208,
      "outputs": [
        {
          "output_type": "stream",
          "text": [
            "Vertical : Actual\n",
            "Horizontal : Predicted\n"
          ],
          "name": "stdout"
        },
        {
          "output_type": "display_data",
          "data": {
            "image/png": "[encoded data removed]",
            "text/plain": [
              "<Figure size 432x288 with 2 Axes>"
            ]
          },
          "metadata": {
            "tags": [],
            "needs_background": "light"
          }
        }
      ]
    },
    {
      "cell_type": "markdown",
      "metadata": {
        "id": "w3clfvK2Kkaf",
        "colab_type": "text"
      },
      "source": [
        "Sensitivity & Specificity"
      ]
    },
    {
      "cell_type": "code",
      "metadata": {
        "id": "-jz7Ox_C9ZTl",
        "colab_type": "code",
        "colab": {
          "base_uri": "https://localhost:8080/",
          "height": 54
        },
        "outputId": "92eab687-1333-49d0-9178-9334e43e986b"
      },
      "source": [
        "Sensitivity = cm_lr[0][0]/(cm_lr[0][0]+cm_lr[1][0])\n",
        "\n",
        "Specificity = cm_lr[1][1]/(cm_lr[1][1]+cm_lr[0][1])\n",
        "\n",
        "print(\"Sensitivity : \",Sensitivity)\n",
        "print(\"Specificity : \",Specificity)"
      ],
      "execution_count": 209,
      "outputs": [
        {
          "output_type": "stream",
          "text": [
            "Sensitivity :  0.9998241665494444\n",
            "Specificity :  0.4\n"
          ],
          "name": "stdout"
        }
      ]
    },
    {
      "cell_type": "markdown",
      "metadata": {
        "id": "qgYVQqE_K4SP",
        "colab_type": "text"
      },
      "source": [
        "Average precision-recall score"
      ]
    },
    {
      "cell_type": "code",
      "metadata": {
        "id": "nTN00Wxs9vGx",
        "colab_type": "code",
        "colab": {
          "base_uri": "https://localhost:8080/",
          "height": 35
        },
        "outputId": "d5cf649e-44ad-41ec-e697-a9efe5f83f3d"
      },
      "source": [
        "average_precision = average_precision_score(y_test, y_lr)\n",
        "print('Average precision-recall score: {0:0.2f}'.format(average_precision))"
      ],
      "execution_count": 244,
      "outputs": [
        {
          "output_type": "stream",
          "text": [
            "Average precision-recall score: 0.31\n"
          ],
          "name": "stdout"
        }
      ]
    },
    {
      "cell_type": "markdown",
      "metadata": {
        "id": "dRb7J1Hrs5ZJ",
        "colab_type": "text"
      },
      "source": [
        "#SVM"
      ]
    },
    {
      "cell_type": "code",
      "metadata": {
        "id": "cu0viLf6s1kl",
        "colab_type": "code",
        "colab": {}
      },
      "source": [
        "from sklearn.svm import SVC\n",
        "model_svm = SVC()"
      ],
      "execution_count": 0,
      "outputs": []
    },
    {
      "cell_type": "markdown",
      "metadata": {
        "id": "i8nwHcFTLD6Y",
        "colab_type": "text"
      },
      "source": [
        "SVM Training"
      ]
    },
    {
      "cell_type": "code",
      "metadata": {
        "id": "DAedq5Y2tLoo",
        "colab_type": "code",
        "colab": {
          "base_uri": "https://localhost:8080/",
          "height": 91
        },
        "outputId": "331b7466-c152-438f-d1b5-def0d3453e5e"
      },
      "source": [
        "model_svm.fit(X = x_train,y=y_train)"
      ],
      "execution_count": 6,
      "outputs": [
        {
          "output_type": "execute_result",
          "data": {
            "text/plain": [
              "SVC(C=1.0, break_ties=False, cache_size=200, class_weight=None, coef0=0.0,\n",
              "    decision_function_shape='ovr', degree=3, gamma='scale', kernel='rbf',\n",
              "    max_iter=-1, probability=False, random_state=None, shrinking=True,\n",
              "    tol=0.001, verbose=False)"
            ]
          },
          "metadata": {
            "tags": []
          },
          "execution_count": 6
        }
      ]
    },
    {
      "cell_type": "markdown",
      "metadata": {
        "id": "sycJKvp8LNcH",
        "colab_type": "text"
      },
      "source": [
        "SVM testing"
      ]
    },
    {
      "cell_type": "code",
      "metadata": {
        "id": "pAJ7-0RJLh6R",
        "colab_type": "code",
        "colab": {}
      },
      "source": [
        "y_svm = model_svm.predict(x_test)"
      ],
      "execution_count": 0,
      "outputs": []
    },
    {
      "cell_type": "markdown",
      "metadata": {
        "id": "DpDAGZApLiOS",
        "colab_type": "text"
      },
      "source": [
        "Confusion Matrix"
      ]
    },
    {
      "cell_type": "code",
      "metadata": {
        "id": "h2RvCNeKLkeD",
        "colab_type": "code",
        "colab": {
          "base_uri": "https://localhost:8080/",
          "height": 302
        },
        "outputId": "a595f071-0ee8-4d58-e512-079f5af6152c"
      },
      "source": [
        "y_svm[y_svm == 1] = 0\n",
        "y_svm[y_svm == -1] = 1\n",
        "cm_svm = confusion_matrix(y_svm,y_test)\n",
        "cm_svm_p = pd.DataFrame(cm_svm, index = [i for i in {\"Fraud\",\"Normal\"}], columns = [i for i in {\"Fraud\",\"Normal\"}])\n",
        "sns.heatmap(cm_svm_p, annot=True, annot_kws={\"size\": 16})\n",
        "print(\"Vertical : Actual\")\n",
        "print(\"Horizontal : Predicted\")"
      ],
      "execution_count": 8,
      "outputs": [
        {
          "output_type": "stream",
          "text": [
            "Vertical : Actual\n",
            "Horizontal : Predicted\n"
          ],
          "name": "stdout"
        },
        {
          "output_type": "display_data",
          "data": {
            "image/png": "[encoded data removed]",
            "text/plain": [
              "<Figure size 432x288 with 2 Axes>"
            ]
          },
          "metadata": {
            "tags": [],
            "needs_background": "light"
          }
        }
      ]
    },
    {
      "cell_type": "markdown",
      "metadata": {
        "id": "31pZejfSLksB",
        "colab_type": "text"
      },
      "source": [
        "Sensitivity & Specificity"
      ]
    },
    {
      "cell_type": "code",
      "metadata": {
        "id": "EBjbooFYLqCt",
        "colab_type": "code",
        "colab": {
          "base_uri": "https://localhost:8080/",
          "height": 54
        },
        "outputId": "9a922333-21dd-464c-dc42-dd00cb442760"
      },
      "source": [
        "Sensitivity = cm_svm[0][0]/(cm_svm[0][0]+cm_svm[1][0])\n",
        "\n",
        "Specificity = cm_svm[1][1]/(cm_svm[1][1]+cm_svm[0][1])\n",
        "\n",
        "print(\"Sensitivity : \",Sensitivity)\n",
        "print(\"Specificity : \",Specificity)"
      ],
      "execution_count": 9,
      "outputs": [
        {
          "output_type": "stream",
          "text": [
            "Sensitivity :  1.0\n",
            "Specificity :  0.0\n"
          ],
          "name": "stdout"
        }
      ]
    },
    {
      "cell_type": "markdown",
      "metadata": {
        "id": "kgwxTZ7YLqT-",
        "colab_type": "text"
      },
      "source": [
        "Average precision-recall score"
      ]
    },
    {
      "cell_type": "code",
      "metadata": {
        "id": "NvMkkpSuLtXe",
        "colab_type": "code",
        "colab": {
          "base_uri": "https://localhost:8080/",
          "height": 35
        },
        "outputId": "ace1287b-0f78-46be-e58a-658712863462"
      },
      "source": [
        "average_precision = average_precision_score(y_test, y_svm)\n",
        "print('Average precision-recall score: {0:0.2f}'.format(average_precision))"
      ],
      "execution_count": 11,
      "outputs": [
        {
          "output_type": "stream",
          "text": [
            "Average precision-recall score: 0.00\n"
          ],
          "name": "stdout"
        }
      ]
    },
    {
      "cell_type": "markdown",
      "metadata": {
        "id": "09R28CuktOIP",
        "colab_type": "text"
      },
      "source": [
        "#Isolation Forest"
      ]
    },
    {
      "cell_type": "code",
      "metadata": {
        "id": "ipTxWRcBtRah",
        "colab_type": "code",
        "colab": {}
      },
      "source": [
        "import numpy as np\n",
        "import pandas as pd\n",
        "import random\n",
        "from sklearn.metrics import confusion_matrix\n",
        "import sys\n",
        "import time\n",
        "\n",
        "# np.random.seed(21)\n",
        "# random.seed(21)\n",
        "# Follows algo from https://cs.nju.edu.cn/zhouzh/zhouzh.files/publication/icdm08b.pdf\n",
        "\n",
        "class IsolationTreeEnsemble:\n",
        "    def __init__(self, sample_size, n_trees=10):\n",
        "\n",
        "        self.sample_size = sample_size\n",
        "        self.n_trees = n_trees\n",
        "        self.height_limit = np.log2(sample_size)\n",
        "        self.trees = []\n",
        "\n",
        "    def fit(self, X:np.ndarray, improved=False):\n",
        "        \"\"\"\n",
        "        Given a 2D matrix of observations, create an ensemble of IsolationTree\n",
        "        objects and store them in a list: self.trees.  Convert DataFrames to\n",
        "        ndarray objects.\n",
        "        \"\"\"\n",
        "        if isinstance(X, pd.DataFrame):\n",
        "            X = X.values\n",
        "            len_x = len(X)\n",
        "            col_x = X.shape[1]\n",
        "            self.trees = []\n",
        "\n",
        "        if improved:\n",
        "            for i in range(self.n_trees):\n",
        "                sample_idx = random.sample(list(range(len_x)), self.sample_size)\n",
        "                temp_tree = IsolationTree(self.height_limit, 0).fit_improved(X[sample_idx, :], improved=True)\n",
        "                self.trees.append(temp_tree)\n",
        "        else:\n",
        "            for i in range(self.n_trees):\n",
        "                sample_idx = random.sample(list(range(len_x)), self.sample_size)\n",
        "                temp_tree = IsolationTree(self.height_limit, 0).fit(X[sample_idx, :], improved=False)\n",
        "                self.trees.append(temp_tree)\n",
        "\n",
        "        return self\n",
        "\n",
        "    def path_length(self, X:np.ndarray) -> np.ndarray:\n",
        "        \"\"\"\n",
        "        Given a 2D matrix of observations, X, compute the average path length\n",
        "        for each observation in X.  Compute the path length for x_i using every\n",
        "        tree in self.trees then compute the average for each x_i.  Return an\n",
        "        ndarray of shape (len(X),1).\n",
        "        \"\"\"\n",
        "        pl_vector = []\n",
        "        if isinstance(X, pd.DataFrame):\n",
        "            X = X.values\n",
        "\n",
        "        for x in (X):\n",
        "            pl = np.array([path_length_tree(x, t, 0) for t in self.trees])\n",
        "            pl = pl.mean()\n",
        "\n",
        "            pl_vector.append(pl)\n",
        "\n",
        "        pl_vector = np.array(pl_vector).reshape(-1, 1)\n",
        "\n",
        "        return pl_vector\n",
        "\n",
        "    def anomaly_score(self, X:np.ndarray) -> np.ndarray:\n",
        "        \"\"\"\n",
        "        Given a 2D matrix of observations, X, compute the anomaly score\n",
        "        for each x_i observation, returning an ndarray of them.\n",
        "        \"\"\"\n",
        "        return 2.0 ** (-1.0 * self.path_length(X) / c(len(X)))\n",
        "\n",
        "    def predict_from_anomaly_scores(self, scores:np.ndarray, threshold:float) -> np.ndarray:\n",
        "        \"\"\"\n",
        "        Given an array of scores and a score threshold, return an array of\n",
        "        the predictions: 1 for any score >= the threshold and 0 otherwise.\n",
        "        \"\"\"\n",
        "\n",
        "        predictions = [1 if p[0] >= threshold else 0 for p in scores]\n",
        "\n",
        "        return predictions\n",
        "\n",
        "    def predict(self, X:np.ndarray, threshold:float) -> np.ndarray:\n",
        "        \"A shorthand for calling anomaly_score() and predict_from_anomaly_scores().\"\n",
        "\n",
        "        scores = 2.0 ** (-1.0 * self.path_length(X) / c(len(X)))\n",
        "        predictions = [1 if p[0] >= threshold else 0 for p in scores]\n",
        "\n",
        "        return predictions\n",
        "\n",
        "class IsolationTree:\n",
        "    def __init__(self, height_limit, current_height):\n",
        "\n",
        "        self.height_limit = height_limit\n",
        "        self.current_height = current_height\n",
        "        self.split_by = None\n",
        "        self.split_value = None\n",
        "        self.right = None\n",
        "        self.left = None\n",
        "        self.size = 0\n",
        "        self.exnodes = 0\n",
        "        self.n_nodes = 1\n",
        "\n",
        "    def fit_improved(self, X: np.ndarray, improved=False):\n",
        "        \"\"\"\n",
        "        Add Extra while loop\n",
        "        \"\"\"\n",
        "\n",
        "        if len(X) <= 1 or self.current_height >= self.height_limit:\n",
        "            self.exnodes = 1\n",
        "            self.size = len(X)\n",
        "\n",
        "            return self\n",
        "\n",
        "        split_by = random.choice(np.arange(X.shape[1]))\n",
        "        min_x = X[:, split_by].min()\n",
        "        max_x = X[:, split_by].max()\n",
        "\n",
        "        if min_x == max_x:\n",
        "            self.exnodes = 1\n",
        "            self.size = len(X)\n",
        "\n",
        "            return self\n",
        "        condition = True\n",
        "\n",
        "        while condition:\n",
        "\n",
        "            split_value = min_x + random.betavariate(0.5,0.5)*(max_x-min_x)\n",
        "\n",
        "            a = X[X[:, split_by] < split_value]\n",
        "            b = X[X[:, split_by] >= split_value]\n",
        "            if len(X) < 10 or a.shape[0] < 0.25 * b.shape[0] or b.shape[0] < 0.25 * a.shape[0] or (\n",
        "                    a.shape[0] > 0 and b.shape[0] > 0):\n",
        "                condition = False\n",
        "\n",
        "            self.size = len(X)\n",
        "            self.split_by = split_by\n",
        "            self.split_value = split_value\n",
        "\n",
        "            self.left = IsolationTree(self.height_limit, self.current_height + 1).fit_improved(a, improved=False)\n",
        "            self.right = IsolationTree(self.height_limit, self.current_height + 1).fit_improved(b, improved=False)\n",
        "            self.n_nodes = self.left.n_nodes + self.right.n_nodes + 1\n",
        "\n",
        "        return self\n",
        "\n",
        "    def fit(self, X:np.ndarray, improved=False):\n",
        "        \"\"\"\n",
        "        Given a 2D matrix of observations, create an isolation tree. Set field\n",
        "        self.root to the root of that tree and return it.\n",
        "        If you are working on an improved algorithm, check parameter \"improved\"\n",
        "        and switch to your new functionality else fall back on your original code.\n",
        "        \"\"\"\n",
        "\n",
        "        if len(X) <= 1 or self.current_height >= self.height_limit:\n",
        "            self.exnodes = 1\n",
        "            self.size = X.shape[0]\n",
        "\n",
        "            return self\n",
        "\n",
        "        split_by = random.choice(np.arange(X.shape[1]))\n",
        "        X_col = X[:, split_by]\n",
        "        min_x = X_col.min()\n",
        "        max_x = X_col.max()\n",
        "\n",
        "        if min_x == max_x:\n",
        "            self.exnodes = 1\n",
        "            self.size = len(X)\n",
        "\n",
        "            return self\n",
        "\n",
        "        else:\n",
        "\n",
        "            split_value = min_x + random.betavariate(0.5, 0.5) * (max_x - min_x)\n",
        "\n",
        "            w = np.where(X_col < split_value, True, False)\n",
        "            del X_col\n",
        "\n",
        "            self.size = X.shape[0]\n",
        "            self.split_by = split_by\n",
        "            self.split_value = split_value\n",
        "\n",
        "            self.left = IsolationTree(self.height_limit, self.current_height + 1).fit(X[w], improved=True)\n",
        "            self.right = IsolationTree(self.height_limit, self.current_height + 1).fit(X[~w], improved=True)\n",
        "            self.n_nodes = self.left.n_nodes + self.right.n_nodes + 1\n",
        "\n",
        "        return self\n",
        "\n",
        "\n",
        "\n",
        "def find_TPR_threshold(y, scores, desired_TPR):\n",
        "    \"\"\"\n",
        "    Start at score threshold 1.0 and work down until we hit desired TPR.\n",
        "    Step by 0.01 score increments. For each threshold, compute the TPR\n",
        "    and FPR to see if we've reached to the desired TPR. If so, return the\n",
        "    score threshold and FPR.\n",
        "    \"\"\"\n",
        "    threshold = 1\n",
        "\n",
        "    while threshold > 0:\n",
        "        y_pred = [1 if p[0] >= threshold else 0 for p in scores]\n",
        "        tn, fp, fn, tp = confusion_matrix(y, y_pred).ravel()\n",
        "        TPR = tp / (tp + fn)\n",
        "        FPR = fp / (fp + tn)\n",
        "        if TPR >= desired_TPR:\n",
        "            return threshold, FPR\n",
        "\n",
        "        threshold = threshold - 0.001\n",
        "\n",
        "    return threshold, FPR\n",
        "\n",
        "\n",
        "def c(n):\n",
        "    if n > 2:\n",
        "        return 2.0*(np.log(n-1)+0.5772156649) - (2.0*(n-1.)/(n*1.0))\n",
        "    elif n == 2:\n",
        "        return 1\n",
        "    if n == 1:\n",
        "        return 0\n",
        "\n",
        "def path_length_tree(x, t,e):\n",
        "    e = e\n",
        "    if t.exnodes == 1:\n",
        "        e = e+ c(t.size)\n",
        "        return e\n",
        "    else:\n",
        "        a = t.split_by\n",
        "        if x[a] < t.split_value :\n",
        "            return path_length_tree(x, t.left, e+1)\n",
        "\n",
        "        if x[a] >= t.split_value :\n",
        "            return path_length_tree(x, t.right, e+1)"
      ],
      "execution_count": 0,
      "outputs": []
    },
    {
      "cell_type": "markdown",
      "metadata": {
        "id": "hYMKViihMjyY",
        "colab_type": "text"
      },
      "source": [
        "Isolation model intialization"
      ]
    },
    {
      "cell_type": "code",
      "metadata": {
        "id": "VyPbuoh7t2Ur",
        "colab_type": "code",
        "outputId": "e7f98601-224f-4dee-f391-49c7007ec2f8",
        "colab": {
          "base_uri": "https://localhost:8080/",
          "height": 35
        }
      },
      "source": [
        "it = IsolationTreeEnsemble(sample_size=512, n_trees=100)\n",
        "it.fit(x_sample)"
      ],
      "execution_count": 211,
      "outputs": [
        {
          "output_type": "execute_result",
          "data": {
            "text/plain": [
              "<__main__.IsolationTreeEnsemble at 0x7f1eac54e898>"
            ]
          },
          "metadata": {
            "tags": []
          },
          "execution_count": 211
        }
      ]
    },
    {
      "cell_type": "markdown",
      "metadata": {
        "id": "57sgxYcNMqQr",
        "colab_type": "text"
      },
      "source": [
        "Predict"
      ]
    },
    {
      "cell_type": "code",
      "metadata": {
        "id": "hgO5WfJcuLqE",
        "colab_type": "code",
        "colab": {}
      },
      "source": [
        "scores = it.anomaly_score(x_sample)"
      ],
      "execution_count": 0,
      "outputs": []
    },
    {
      "cell_type": "code",
      "metadata": {
        "id": "KYIlrUx3Y0u7",
        "colab_type": "code",
        "colab": {}
      },
      "source": [
        "y_iso = it.predict_from_anomaly_scores(scores, 0.67)"
      ],
      "execution_count": 0,
      "outputs": []
    },
    {
      "cell_type": "markdown",
      "metadata": {
        "id": "p6NZSbUqM2_8",
        "colab_type": "text"
      },
      "source": [
        "Confusion Matrix"
      ]
    },
    {
      "cell_type": "code",
      "metadata": {
        "id": "mlMJHx--Byim",
        "colab_type": "code",
        "colab": {
          "base_uri": "https://localhost:8080/",
          "height": 302
        },
        "outputId": "2bb7661e-e1b0-4f63-9faa-cf273cb2f729"
      },
      "source": [
        "cm_iso = confusion_matrix(y_iso,y_sample)\n",
        "cm_iso_p = pd.DataFrame(cm_iso, index = [i for i in {\"Fraud\",\"Normal\"}], columns = [i for i in {\"Fraud\",\"Normal\"}])\n",
        "sns.heatmap(cm_iso_p, annot=True, annot_kws={\"size\": 16})\n",
        "print(\"Vertical : Actual\")\n",
        "print(\"Horizontal : Predicted\")"
      ],
      "execution_count": 240,
      "outputs": [
        {
          "output_type": "stream",
          "text": [
            "Vertical : Actual\n",
            "Horizontal : Predicted\n"
          ],
          "name": "stdout"
        },
        {
          "output_type": "display_data",
          "data": {
            "image/png": "[encoded data removed]",
            "text/plain": [
              "<Figure size 432x288 with 2 Axes>"
            ]
          },
          "metadata": {
            "tags": [],
            "needs_background": "light"
          }
        }
      ]
    },
    {
      "cell_type": "markdown",
      "metadata": {
        "id": "5qDQJh1FM0ua",
        "colab_type": "text"
      },
      "source": [
        "Sensitivity & Specificity"
      ]
    },
    {
      "cell_type": "code",
      "metadata": {
        "id": "2i_0vHnzuS0C",
        "colab_type": "code",
        "outputId": "54318ed2-4dc4-4add-effe-c32ea4d2a15e",
        "colab": {
          "base_uri": "https://localhost:8080/",
          "height": 54
        }
      },
      "source": [
        "Sensitivity = cm_iso[0][0]/(cm_iso[0][0]+cm_iso[1][0])\n",
        "\n",
        "Specificity = cm_iso[1][1]/(cm_iso[1][1]+cm_iso[0][1])\n",
        "\n",
        "print(\"Sensitivity : \",Sensitivity) # Normal Transaction as Normal Transaction\n",
        "print(\"Specificity : \",Specificity) # Fruad Transaction as Fruad Transaction"
      ],
      "execution_count": 243,
      "outputs": [
        {
          "output_type": "stream",
          "text": [
            "Sensitivity :  0.9818821212547475\n",
            "Specificity :  0.7657657657657657\n"
          ],
          "name": "stdout"
        }
      ]
    },
    {
      "cell_type": "markdown",
      "metadata": {
        "id": "eRlqBPIiMzwG",
        "colab_type": "text"
      },
      "source": [
        "Average precision-recall score"
      ]
    },
    {
      "cell_type": "code",
      "metadata": {
        "id": "n-63HneeAklT",
        "colab_type": "code",
        "colab": {
          "base_uri": "https://localhost:8080/",
          "height": 35
        },
        "outputId": "7578958f-2285-4d33-bbf2-6bf90f7dca9f"
      },
      "source": [
        "average_precision = average_precision_score(y_sample, y_iso)\n",
        "print('Average precision-recall score: {0:0.2f}'.format(average_precision))"
      ],
      "execution_count": 242,
      "outputs": [
        {
          "output_type": "stream",
          "text": [
            "Average precision-recall score: 0.05\n"
          ],
          "name": "stdout"
        }
      ]
    },
    {
      "cell_type": "markdown",
      "metadata": {
        "id": "xQCh_hXmtSbX",
        "colab_type": "text"
      },
      "source": [
        "#Local Outlier Factor (LOF)"
      ]
    },
    {
      "cell_type": "code",
      "metadata": {
        "id": "eaS1am0ptZUQ",
        "colab_type": "code",
        "colab": {}
      },
      "source": [
        "def LocalOutlierFactor(X, k, outlier_threshold = 1.2):\n",
        "\n",
        "    # KDtree is a space-partitioning data structure for organizing points in a k-dimensional space. \n",
        "    # X = dataset, leaf_size = Number of points at which to switch to brute-force. , p = 2 means a euclidean distance metric\n",
        "    BT = KDTree(X, leaf_size=k, p=2)\n",
        "\n",
        "    distance, index = BT.query(X, k)\n",
        "    distance, index = distance[:, 1:], index[:, 1:] \n",
        "    radius = distance[:, -1]\n",
        "\n",
        "    #Calculate Local Reachability Distance.\n",
        "    LRD = np.mean(np.maximum(distance, radius[index]), axis=1)\n",
        "    r = 1. / np.array(LRD)\n",
        "\n",
        "    #Calculate outlier score.\n",
        "    outlier_score = np.sum(r[index], axis=1) / np.array(r, dtype=np.float16)\n",
        "    outlier_score *= 1. / k\n",
        "\n",
        "    # target class\n",
        "    y = []\n",
        "\n",
        "    # check whether given instance in outlier or not based on their outlier_score and outlier_threshold\n",
        "    for i, score in enumerate(outlier_score):\n",
        "        if score > outlier_threshold:\n",
        "            y.append(1)\n",
        "        else :\n",
        "            y.append(0)\n",
        "\n",
        "    return y"
      ],
      "execution_count": 0,
      "outputs": []
    },
    {
      "cell_type": "markdown",
      "metadata": {
        "id": "F6rd428nOeFR",
        "colab_type": "text"
      },
      "source": [
        "Predict"
      ]
    },
    {
      "cell_type": "code",
      "metadata": {
        "id": "-5_Km_5Dvnkf",
        "colab_type": "code",
        "colab": {}
      },
      "source": [
        "y_lof = LocalOutlierFactor(x, k=10, outlier_threshold = 3)"
      ],
      "execution_count": 0,
      "outputs": []
    },
    {
      "cell_type": "markdown",
      "metadata": {
        "id": "ulrXpD8gOgMo",
        "colab_type": "text"
      },
      "source": [
        "Confusion Matrix"
      ]
    },
    {
      "cell_type": "code",
      "metadata": {
        "id": "zvbHtySsOjPv",
        "colab_type": "code",
        "colab": {}
      },
      "source": [
        "cm_lof = confusion_matrix(y_test,y_lr)\n",
        "cm_lof_p = pd.DataFrame(cm_lof, index = [i for i in {\"Fraud\",\"Normal\"}], columns = [i for i in {\"Fraud\",\"Normal\"}])\n",
        "sns.heatmap(cm_lof_p, annot=True, annot_kws={\"size\": 16})"
      ],
      "execution_count": 0,
      "outputs": []
    },
    {
      "cell_type": "markdown",
      "metadata": {
        "id": "2QqheUe4OYnV",
        "colab_type": "text"
      },
      "source": [
        "Sensitivity & Specificity"
      ]
    },
    {
      "cell_type": "code",
      "metadata": {
        "id": "AlK5-ThHv-pf",
        "colab_type": "code",
        "colab": {}
      },
      "source": [
        "Sensitivity = cm_lof[0][0]/(cm_lof[0][0]+cm_lof[1][0])\n",
        "\n",
        "Specificity = cm_lof[1][1]/(cm_lof[1][1]+cm_lof[0][1])\n",
        "\n",
        "print(\"Sensitivity : \",Sensitivity)\n",
        "print(\"Specificity : \",Specificity)"
      ],
      "execution_count": 0,
      "outputs": []
    },
    {
      "cell_type": "markdown",
      "metadata": {
        "id": "3s-14r0zOogW",
        "colab_type": "text"
      },
      "source": [
        "Average precision-recall score"
      ]
    },
    {
      "cell_type": "code",
      "metadata": {
        "id": "Kh3nUGBOOow6",
        "colab_type": "code",
        "colab": {}
      },
      "source": [
        "average_precision = average_precision_score(y_sample, y_pred)\n",
        "print('Average precision-recall score: {0:0.2f}'.format(average_precision))"
      ],
      "execution_count": 0,
      "outputs": []
    }
  ]
}