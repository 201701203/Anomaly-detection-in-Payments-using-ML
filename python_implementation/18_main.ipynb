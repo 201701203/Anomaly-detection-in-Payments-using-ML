{
 "cells": [
  {
   "cell_type": "code",
   "execution_count": 1,
   "metadata": {},
   "outputs": [],
   "source": [
    "# import necessary libraries\n",
    "import numpy as np\n",
    "import pandas as pd\n",
    "import random as rn\n",
    "import matplotlib.pyplot as plt\n",
    "from mpl_toolkits.mplot3d import axes3d\n",
    "from sklearn.model_selection import train_test_split"
   ]
  },
  {
   "cell_type": "code",
   "execution_count": 2,
   "metadata": {},
   "outputs": [],
   "source": [
    "# import model\n",
    "import Isolation_Forest as iso\n",
    "import Local_Outlier_Factor as lof\n",
    "import Logistic_Regression as log_reg\n",
    "import Support_Vector_Machine as svm"
   ]
  },
  {
   "cell_type": "code",
   "execution_count": 3,
   "metadata": {},
   "outputs": [],
   "source": [
    "#read data from excel (Data-set)\n",
    "data=pd.read_csv(r\"C:\\\\Users\\\\hp\\\\Desktop\\\\ml\\\\creditcard.csv\") \n",
    "x=data.iloc[1:, 1:29]     \n",
    "y=data.iloc[1:,30]     \n",
    "#for making it normal\n",
    "x = x-np.mean(x)\n",
    "x = x/np.std(x)\n",
    "#x_train,x_test,y_train,y_test = train_test_split(x,y,test_size=0.01)"
   ]
  },
  {
   "cell_type": "code",
   "execution_count": 25,
   "metadata": {},
   "outputs": [],
   "source": [
    "x_train,x_test,y_train,y_test = train_test_split(x,y,test_size=0.001)\n",
    "x_train1,x_test1,y_train1,y_test1 = train_test_split(x,y,test_size=0.001)"
   ]
  },
  {
   "cell_type": "code",
   "execution_count": 26,
   "metadata": {},
   "outputs": [
    {
     "data": {
      "text/plain": [
       "0.9964912280701754"
      ]
     },
     "execution_count": 26,
     "metadata": {},
     "output_type": "execute_result"
    }
   ],
   "source": [
    "#Logistic Regression\n",
    "model = log_reg.LogisticRegression(lr=0.01, num_iter=1000)\n",
    "model.fit(x_test, y_test)\n",
    "preds = model.predict(x_test1)\n",
    "log_reg_accuracy = (preds == y_test1).mean()\n",
    "log_reg_accuracy"
   ]
  },
  {
   "cell_type": "code",
   "execution_count": 27,
   "metadata": {},
   "outputs": [
    {
     "data": {
      "text/plain": [
       "1.0"
      ]
     },
     "execution_count": 27,
     "metadata": {},
     "output_type": "execute_result"
    }
   ],
   "source": [
    "#Local Outlier Factor\n",
    "y_lof = lof.LocalOutlierFactor(X=x_test, k=10, outlier_threshold = 4)\n",
    "lof_accuracy = (y_lof == y_test).mean()\n",
    "lof_accuracy"
   ]
  },
  {
   "cell_type": "code",
   "execution_count": 28,
   "metadata": {},
   "outputs": [
    {
     "data": {
      "text/plain": [
       "1.0"
      ]
     },
     "execution_count": 28,
     "metadata": {},
     "output_type": "execute_result"
    }
   ],
   "source": [
    "#Support Vector Machine\n",
    "model_svm = svm.SVM()\n",
    "model_svm.fit(X = x_test, y=y_test)\n",
    "y_svm = model_svm.predict(x_test1)\n",
    "svm_accuracy = (y_svm == y_test1).mean()\n",
    "svm_accuracy"
   ]
  },
  {
   "cell_type": "code",
   "execution_count": 64,
   "metadata": {},
   "outputs": [],
   "source": []
  },
  {
   "cell_type": "code",
   "execution_count": null,
   "metadata": {},
   "outputs": [],
   "source": []
  },
  {
   "cell_type": "code",
   "execution_count": null,
   "metadata": {},
   "outputs": [],
   "source": []
  },
  {
   "cell_type": "code",
   "execution_count": null,
   "metadata": {},
   "outputs": [],
   "source": []
  }
 ],
 "metadata": {
  "kernelspec": {
   "display_name": "Python 3",
   "language": "python",
   "name": "python3"
  },
  "language_info": {
   "codemirror_mode": {
    "name": "ipython",
    "version": 3
   },
   "file_extension": ".py",
   "mimetype": "text/x-python",
   "name": "python",
   "nbconvert_exporter": "python",
   "pygments_lexer": "ipython3",
   "version": "3.7.4"
  }
 },
 "nbformat": 4,
 "nbformat_minor": 2
}
